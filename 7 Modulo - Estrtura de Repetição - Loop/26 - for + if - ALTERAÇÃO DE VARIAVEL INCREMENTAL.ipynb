{
 "cells": [
  {
   "cell_type": "markdown",
   "metadata": {},
   "source": [
    "# for + if\n",
    "\n",
    "### Estrutura:"
   ]
  },
  {
   "cell_type": "raw",
   "metadata": {},
   "source": [
    "for item in lista:\n",
    "    if condicao:\n",
    "        faça alguma coisa\n",
    "    else:\n",
    "        outra coisa"
   ]
  },
  {
   "cell_type": "markdown",
   "metadata": {},
   "source": [
    "Digamos que a gente esteja analisando a meta de vendas de vários funcionários de uma empresa. A meta de vendas é de 1000 reais em 1 dia.\n",
    "\n",
    "Temos uma lista com as vendas de todos os funcionários e quero calcular qual o % de pessoas que bateram a meta."
   ]
  },
  {
   "cell_type": "code",
   "execution_count": 13,
   "metadata": {},
   "outputs": [],
   "source": []
  },
  {
   "cell_type": "code",
   "execution_count": 22,
   "metadata": {},
   "outputs": [
    {
     "name": "stdout",
     "output_type": "stream",
     "text": [
      "O colaborador Alice alcançou a meta com 1200 vendas\n",
      "O colaborador David alcançou a meta com 1500 vendas\n",
      "O colaborador Eva alcançou a meta com 1900 vendas\n",
      "O colaborador Fernando alcançou a meta com 2750 vendas\n",
      "O colaborador Miguel alcançou a meta com 1100 vendas\n",
      "O colaborador Sophia alcançou a meta com 1111 vendas\n",
      "-----------------------------------------------------------------\n",
      "O total de colaboradores que bateram a meta é de 6 colaboradores\n",
      "A porcentagem de colaboradores que bateram a meta foi 26.09%\n"
     ]
    }
   ],
   "source": [
    "vendedores = ['Alice', 'Bob', 'Carol', 'David', 'Eva', 'Fernando', 'Gabriel', 'Hannah', 'Isaac', 'Julia', 'Kevin', 'Laura', 'Miguel', 'Nina', 'Oliver', 'Paula', 'Quinn', 'Rafael', 'Sophia', 'Tomás', 'Úrsula', 'Vitor']\n",
    "vendas = [1200, 300, 800, 1500, 1900, 2750, 400, 20, 23, 70, 90, 80, 1100, 999, 900, 880, 870, 50, 1111, 120, 300, 450, 800]\n",
    "meta = 1000\n",
    "\n",
    "colaboradores_que_bateram_a_meta = 0\n",
    "\n",
    "for i, (colaboadores, vendas_colab) in enumerate(zip(vendedores, vendas)):\n",
    "    if vendas_colab >= meta:\n",
    "        colaboradores_que_bateram_a_meta += 1 # Estou somando na variavel colaboradores_que_bateram_a_meta +1 sempre que alguem cumprir o if\n",
    "        print(f'O colaborador {vendedores[i]} alcançou a meta com {vendas_colab} vendas')\n",
    "    else:\n",
    "        pass\n",
    "print('-' * 65)\n",
    "print(f'O total de colaboradores que bateram a meta é de {colaboradores_que_bateram_a_meta} colaboradores')\n",
    "vendas_num = len(vendas)\n",
    "print(f'A porcentagem de colaboradores que bateram a meta foi {colaboradores_que_bateram_a_meta / (vendedores_num + 1):.2%}') # por algum motivo meu codigo está desconsiderando o indice 0"
   ]
  }
 ],
 "metadata": {
  "kernelspec": {
   "display_name": "Python 3",
   "language": "python",
   "name": "python3"
  },
  "language_info": {
   "codemirror_mode": {
    "name": "ipython",
    "version": 3
   },
   "file_extension": ".py",
   "mimetype": "text/x-python",
   "name": "python",
   "nbconvert_exporter": "python",
   "pygments_lexer": "ipython3",
   "version": "3.12.2"
  }
 },
 "nbformat": 4,
 "nbformat_minor": 4
}
