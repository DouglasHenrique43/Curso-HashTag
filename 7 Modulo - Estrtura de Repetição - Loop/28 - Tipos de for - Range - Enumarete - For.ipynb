{
 "cells": [
  {
   "cell_type": "code",
   "execution_count": 2,
   "id": "f384c181",
   "metadata": {},
   "outputs": [],
   "source": [
    "produtos = [\"iphone\", \"ipad\", \"airpod\", \"macbook\"]\n",
    "precos = [7000, 10000, 2500, 14000]"
   ]
  },
  {
   "cell_type": "markdown",
   "id": "ed0a699c",
   "metadata": {},
   "source": [
    "### For item in lista"
   ]
  },
  {
   "cell_type": "code",
   "execution_count": 4,
   "id": "3053355f",
   "metadata": {},
   "outputs": [
    {
     "name": "stdout",
     "output_type": "stream",
     "text": [
      "R$ 7,000.00\n",
      "R$ 10,000.00\n",
      "R$ 2,500.00\n",
      "R$ 14,000.00\n"
     ]
    }
   ],
   "source": [
    "# preco com imposto\n",
    "for i in precos:\n",
    "    print(f\"R$ {i:,.2f}\")"
   ]
  },
  {
   "cell_type": "markdown",
   "id": "80aa8d07",
   "metadata": {},
   "source": [
    "### For i in range"
   ]
  },
  {
   "cell_type": "code",
   "execution_count": 6,
   "id": "74b8e12d",
   "metadata": {},
   "outputs": [
    {
     "name": "stdout",
     "output_type": "stream",
     "text": [
      "iphone - R$ 7,000.00\n",
      "ipad - R$ 10,000.00\n",
      "airpod - R$ 2,500.00\n",
      "macbook - R$ 14,000.00\n"
     ]
    }
   ],
   "source": [
    "# preco de cada produto\n",
    "for i in range(len(precos)):\n",
    "    produto = produtos[i]\n",
    "    print(f\"{produto} - R$ {precos[i]:,.2f}\")"
   ]
  },
  {
   "cell_type": "markdown",
   "id": "ba0b37d3",
   "metadata": {},
   "source": [
    "### For item in lista com enumerate"
   ]
  },
  {
   "cell_type": "code",
   "execution_count": 25,
   "id": "38271545",
   "metadata": {},
   "outputs": [
    {
     "name": "stdout",
     "output_type": "stream",
     "text": [
      "Produto iphone  -  Tive um aumento para R$ 10,500.00 devido aumento de imposto\n",
      "Produto ipad    -  Tive um aumento para R$ 15,000.00 devido aumento de imposto\n",
      "Produto airpod  -  Tive um aumento para R$ 3,750.00 devido aumento de imposto\n",
      "Produto macbook -  Tive um aumento para R$ 21,000.00 devido aumento de imposto\n"
     ]
    }
   ],
   "source": [
    "# preco de cada produto com imposto\n",
    "for i, valor in enumerate(precos):\n",
    "    valor = precos[i] * 1.5 # lembra de colocar o [i] para se referir a cada valor dentro da lista\n",
    "    print(f'Produto {produtos[i]:<7} {'-':<3}Tive um aumento para R$ {valor:,.2f} devido aumento de imposto')\n",
    "    "
   ]
  },
  {
   "cell_type": "code",
   "execution_count": null,
   "id": "827fc0d0",
   "metadata": {},
   "outputs": [],
   "source": []
  }
 ],
 "metadata": {
  "kernelspec": {
   "display_name": "Python 3 (ipykernel)",
   "language": "python",
   "name": "python3"
  },
  "language_info": {
   "codemirror_mode": {
    "name": "ipython",
    "version": 3
   },
   "file_extension": ".py",
   "mimetype": "text/x-python",
   "name": "python",
   "nbconvert_exporter": "python",
   "pygments_lexer": "ipython3",
   "version": "3.12.2"
  }
 },
 "nbformat": 4,
 "nbformat_minor": 5
}
