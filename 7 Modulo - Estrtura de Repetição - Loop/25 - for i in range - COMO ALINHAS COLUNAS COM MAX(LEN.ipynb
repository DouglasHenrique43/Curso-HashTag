{
 "cells": [
  {
   "cell_type": "markdown",
   "metadata": {},
   "source": [
    "# Estrutura de Repetição: for\n",
    "\n",
    "### Funcionamento:"
   ]
  },
  {
   "cell_type": "raw",
   "metadata": {},
   "source": [
    "for i in range(n):\n",
    "    repetir código n vezes"
   ]
  },
  {
   "cell_type": "markdown",
   "metadata": {},
   "source": [
    "#### Se for parar para pensar, eu usaria o for i in range somente quando eu quero fazer algo como no click heroes ou cookie clicker.\n",
    "#### Quando eu quero executar varios clickes para me dar as moedas, tirando isso, não consigo ver como o range pode me ser util quando se pode usar o zip ou um dataset,\n",
    "#### Quando eu quero fazer um for com input, e a quantidade de vezes que o for precisar rodar estiver relacionado com o input, o range é o ideal"
   ]
  },
  {
   "cell_type": "code",
   "execution_count": 3,
   "metadata": {},
   "outputs": [
    {
     "name": "stdout",
     "output_type": "stream",
     "text": [
      "Produto   Vendas\n",
      "-----------------\n",
      "coca      15000\n",
      "pepsi     12000\n",
      "guarana   13000\n",
      "sprite    5000\n",
      "fanta     250\n"
     ]
    }
   ],
   "source": [
    "produtos = ['coca', 'pepsi', 'guarana', 'sprite', 'fanta']\n",
    "producao = [15000, 12000, 13000, 5000, 250]\n",
    "\n",
    "# Printei essa parte antes do for para ficar como titulo\n",
    "print(f\"{'Produto':<10}Vendas\") # :<10 Isso é chamado de campo de largura mínima. Isso que gera os espaços entre o produto e o valor da venda\n",
    "print(\"-\" * 17)                 # O sinal < indica que o texto deve ser alinhado à esquerda.\n",
    "\n",
    "for produto, vendas in zip(produtos, producao):\n",
    "    print(f\"{produto:<10}{vendas}\")\n"
   ]
  }
 ],
 "metadata": {
  "kernelspec": {
   "display_name": "Python 3",
   "language": "python",
   "name": "python3"
  },
  "language_info": {
   "codemirror_mode": {
    "name": "ipython",
    "version": 3
   },
   "file_extension": ".py",
   "mimetype": "text/x-python",
   "name": "python",
   "nbconvert_exporter": "python",
   "pygments_lexer": "ipython3",
   "version": "3.12.2"
  }
 },
 "nbformat": 4,
 "nbformat_minor": 4
}
