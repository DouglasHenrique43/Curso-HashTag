{
 "cells": [
  {
   "cell_type": "markdown",
   "metadata": {},
   "source": [
    "### Login e senha de usuario"
   ]
  },
  {
   "cell_type": "code",
   "execution_count": 1,
   "metadata": {},
   "outputs": [
    {
     "name": "stdout",
     "output_type": "stream",
     "text": [
      "Senha incorreta ou usuário não encontrado. Tente novamente.\n"
     ]
    }
   ],
   "source": [
    "def user_pass(username, password): # A função def user_pass, tem 2 parametros, username e password.\n",
    "    if username == \"Douglas\" and password == \"crybaby\": # Aqui eu coloquei condições, e detalhe, não se pode separar as 2 variaveis por , mas sim pro and.\n",
    "        return True     # Aqui eu expecifiquei para todo seguinte codigo que se faça necessario login, que se caso contrario não for feito o login e senha corretamente, o código não dara sequência.\n",
    "    else:               # Aqui eu expecifiquei para todo seguinte codigo que se faça necessario login, que se caso contrario não for feito o login e senha corretamente, o código não dara sequência.\n",
    "        return False    # Aqui eu expecifiquei para todo seguinte codigo que se faça necessario login, que se caso contrario não for feito o login e senha corretamente, o código não dara sequência.\n",
    "\n",
    "# Solicita o nome de usuario\n",
    "username = input(\"Digite seu nome de usuário: \") # A variavel 'nome' está armazenando o nome de usuario\n",
    "# Solicita a senha\n",
    "password = input(\"Digite sua senha: \") # A variavel 'senha' está armazenando a senha\n",
    "\n",
    "# Verifica o login do usuário\n",
    "if user_pass(username, password):\n",
    "    print(\"Login bem-sucedido! Bem-vindo,\", username)\n",
    "else:\n",
    "    print(\"Senha incorreta ou usuário não encontrado. Tente novamente.\")"
   ]
  },
  {
   "cell_type": "code",
   "execution_count": 10,
   "metadata": {},
   "outputs": [
    {
     "name": "stdout",
     "output_type": "stream",
     "text": [
      "Produto encontrado! Estoque: 100 unidades.\n"
     ]
    }
   ],
   "source": [
    "def consultar_estoque(produtos, estoque):\n",
    "    produto_dig = input(\"Digite o nome do produto: \")\n",
    "\n",
    "    if produto_dig in produtos:\n",
    "        indice = produtos.index(produto_dig)\n",
    "        print(f\"Produto encontrado! Estoque: {estoque[indice]} unidades.\")\n",
    "    elif produto_dig == '':\n",
    "        print('Digite os dados corretamente')\n",
    "    else:\n",
    "        print(\"Produto não existe na lista.\")\n",
    "\n",
    "# Dados de exemplo\n",
    "produtos = ['tv', 'celular', 'tablet', 'mouse', 'teclado', 'geladeira', 'forno']\n",
    "estoque = [100, 150, 100, 120, 70, 180, 80]\n",
    "\n",
    "# Consulta de estoque\n",
    "consultar_estoque(produtos, estoque)\n"
   ]
  },
  {
   "cell_type": "markdown",
   "metadata": {},
   "source": [
    "### Login e senha com email"
   ]
  },
  {
   "cell_type": "code",
   "execution_count": 1,
   "metadata": {},
   "outputs": [],
   "source": [
    "login = input('Login: ')\n",
    "\n",
    "if '@' in login:\n",
    "    pass\n",
    "else:\n",
    "    print('Login inválido!')\n",
    "    exit()\n"
   ]
  },
  {
   "cell_type": "markdown",
   "metadata": {},
   "source": [
    "### Calculo de faturamento"
   ]
  },
  {
   "cell_type": "code",
   "execution_count": null,
   "metadata": {},
   "outputs": [
    {
     "name": "stdout",
     "output_type": "stream",
     "text": [
      "Lucro total: 384.0\n"
     ]
    }
   ],
   "source": [
    "def calcular_lucro(vendas, valores): # Detalhe importante, não colocar o nome da função como variavel da mesma.\n",
    "    lucro = vendas * valores\n",
    "    return lucro\n",
    "\n",
    "# Solicita a quantidade de vendas e o valor do produto\n",
    "vendas = float(input('Digite a quantidade das vendas do produto x: '))  # Sempre que tratar de valores, coloque float.\n",
    "valores = float(input('Digite o valor do produto x: '))                 # Sempre que tratar de valores, coloque float.\n",
    "\n",
    "# Chama a função e calcula o lucro\n",
    "resultado = calcular_lucro(vendas, valores)\n",
    "\n",
    "# Exibe o lucro\n",
    "print(\"Lucro total:\", resultado)\n",
    "\n"
   ]
  },
  {
   "cell_type": "markdown",
   "metadata": {},
   "source": [
    "# Exercícios do Módulo 1 - Operações, Variáveis e Input"
   ]
  },
  {
   "cell_type": "markdown",
   "metadata": {},
   "source": [
    "### Parte 1 - Operações e Variáveis\n",
    "Crie um programa que imprima (print) os principais indicadores da loja Hashtag&Drink no último ano.\n",
    "Obs: faça tudo usando variáveis.\n",
    "\n",
    "Valores do último ano:\n",
    "\n",
    "Quantidade de Vendas de Coca = 150<br>\n",
    "Quantidade de Vendas de Pepsi = 130<br>\n",
    "Preço Unitário da Coca = 1,50 <br>\n",
    "Preço Unitário da Pepsi = 1,50<br>\n",
    "Custo da Loja: 2.500,00\n",
    "\n",
    "Use o bloco abaixo para criar todas as variáveis que precisar."
   ]
  },
  {
   "cell_type": "code",
   "execution_count": 90,
   "metadata": {},
   "outputs": [],
   "source": [
    "qntd_vendas_coca = 150  # Inserindo as informações as minhas variaveis\n",
    "qntd_vendas_pepsi = 130 # Inserindo as informações as minhas variaveis\n",
    "preço_un_coca = 1.50    # Inserindo as informações as minhas variaveis\n",
    "preço_un_pepsi = 1.50   # Inserindo as informações as minhas variaveis\n",
    "custo_da_loja = 2360.00 # Inserindo as informações as minhas variaveis\n",
    "\n",
    "def calculo_pepsi(qntd_vendas_pepsi, preço_un_pepsi):           # Chamando a função def e inserindo os parametros    \n",
    "    return qntd_vendas_pepsi * preço_un_pepsi                   # Fazendo o calculo     \n",
    "resultado1 = calculo_pepsi(qntd_vendas_pepsi, preço_un_pepsi)   # Chamando minha função em uma variavel        \n",
    "\n",
    "def calculo_coca(qntd_vendas_coca, preço_un_coca):\n",
    "    return qntd_vendas_coca * preço_un_coca\n",
    "resultado2 = calculo_coca(qntd_vendas_coca, preço_un_coca)\n",
    "\n",
    "def lucro_loja(resultado1, resultado2, custo_da_loja):\n",
    "    receita_total = (resultado1 + resultado2) - custo_da_loja\n",
    "    return receita_total\n",
    "resultado3 = lucro_loja(qntd_vendas_coca, qntd_vendas_pepsi, custo_da_loja)\n",
    "\n",
    "def margem_lucro(lucro_loja, qntd_vendas_coca, qntd_vendas_pepsi):\n",
    "    faturamento = resultado1 + resultado2\n",
    "    margem = (resultado3 / faturamento) * 100\n",
    "    return margem\n",
    "resultado4 = margem_lucro(lucro_loja, qntd_vendas_coca, qntd_vendas_pepsi)\n",
    "margem_formatada = round(resultado4, 2) # -------->>>>> É assim que se coloca uma variavel float em 2 decimais, precisa chamar ela em uma nova variavel"
   ]
  },
  {
   "cell_type": "markdown",
   "metadata": {},
   "source": [
    "1. Qual foi o faturamento de Pepsi da Loja?"
   ]
  },
  {
   "cell_type": "code",
   "execution_count": 70,
   "metadata": {},
   "outputs": [
    {
     "name": "stdout",
     "output_type": "stream",
     "text": [
      "195.0\n"
     ]
    }
   ],
   "source": [
    "print(resultado1)"
   ]
  },
  {
   "cell_type": "markdown",
   "metadata": {},
   "source": [
    "2. Qual foi o faturamento de Coca da Loja?"
   ]
  },
  {
   "cell_type": "code",
   "execution_count": 41,
   "metadata": {},
   "outputs": [
    {
     "name": "stdout",
     "output_type": "stream",
     "text": [
      "225.0\n"
     ]
    }
   ],
   "source": [
    "print(resultado2)"
   ]
  },
  {
   "cell_type": "markdown",
   "metadata": {},
   "source": [
    "3. Qual foi o Lucro da loja?"
   ]
  },
  {
   "cell_type": "code",
   "execution_count": 91,
   "metadata": {},
   "outputs": [
    {
     "name": "stdout",
     "output_type": "stream",
     "text": [
      "-2080.0\n"
     ]
    }
   ],
   "source": [
    "print(resultado3)"
   ]
  },
  {
   "cell_type": "markdown",
   "metadata": {},
   "source": [
    "4. Qual foi a Margem da Loja? (Lembre-se, margem = Lucro / Faturamento). Não precisa formatar em percentual"
   ]
  },
  {
   "cell_type": "code",
   "execution_count": 92,
   "metadata": {},
   "outputs": [
    {
     "name": "stdout",
     "output_type": "stream",
     "text": [
      "O resultado foi:  -495.24 %\n"
     ]
    }
   ],
   "source": [
    "print('O resultado foi: ', margem_formatada, '%')"
   ]
  },
  {
   "cell_type": "markdown",
   "metadata": {},
   "source": [
    "### Parte 2 - Inputs e Strings"
   ]
  },
  {
   "cell_type": "markdown",
   "metadata": {},
   "source": [
    "A maioria das empresas trabalham com um Código para cada produto que possuem. A Hashtag&Drink, por exemplo, tem mais de 1.000 produtos e possui um código para cada produto.\n",
    "Ex: \n",
    "Coca -> Código: BEB1300543<br>\n",
    "Pepsi -> Código: BEB1300545<br>\n",
    "Vinho Primitivo Lucarelli -> Código: BAC1546001<br>\n",
    "Vodka Smirnoff -> Código: BAC17675002<br>\n",
    "\n",
    "Repare que todas as bebidas não alcóolicas tem o início do Código \"BEB\" e todas as bebidas alcóolicas tem o início do código \"BAC\".\n",
    "\n",
    "Crie um programa de consulta de bebida que, dado um código qualquer, identifique se a bebida é alcóolica. O programa deve responder True para bebidas alcóolicas e False para bebidas não alcóolicas. Para inserir um código, use um input.\n",
    "\n",
    "Dica: Lembre-se do comando in para strings e sempre insira os códigos com letra maiúscula para facilitar."
   ]
  },
  {
   "cell_type": "code",
   "execution_count": 95,
   "metadata": {},
   "outputs": [
    {
     "name": "stdout",
     "output_type": "stream",
     "text": [
      "True\n"
     ]
    }
   ],
   "source": [
    "Codigo_do_produto = input('Insira o código do produto: ')\n",
    "\n",
    "if 'BEB' in Codigo_do_produto:\n",
    "    print(True)\n",
    "else:\n",
    "    print(False)"
   ]
  }
 ],
 "metadata": {
  "kernelspec": {
   "display_name": "Python 3",
   "language": "python",
   "name": "python3"
  },
  "language_info": {
   "codemirror_mode": {
    "name": "ipython",
    "version": 3
   },
   "file_extension": ".py",
   "mimetype": "text/x-python",
   "name": "python",
   "nbconvert_exporter": "python",
   "pygments_lexer": "ipython3",
   "version": "3.12.2"
  }
 },
 "nbformat": 4,
 "nbformat_minor": 2
}
