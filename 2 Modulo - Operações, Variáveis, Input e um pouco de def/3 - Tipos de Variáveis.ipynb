{
 "cells": [
  {
   "cell_type": "markdown",
   "metadata": {},
   "source": [
    "# Tipos de Variáveis em Python"
   ]
  },
  {
   "cell_type": "markdown",
   "metadata": {},
   "source": [
    "Uma variável é um objeto, afinal tudo é um objeto em Python\n",
    "\n",
    "int -> inteiro<br>\n",
    "string -> texto<br>\n",
    "float -> números com casas decimais (ponto flutuante)<br>\n",
    "bool ou boolean -> True ou False<br>\n",
    "\n",
    "Obs: Variáveis em Python não são declaradas explicitamente, mas isso não significa que você deve ficar mudando o tempo todo\n",
    "\n",
    "Obs2: Cuidado com os nomes restritos (arquivo para Download)"
   ]
  },
  {
   "cell_type": "code",
   "execution_count": null,
   "metadata": {},
   "outputs": [
    {
     "data": {
      "text/plain": [
       "int"
      ]
     },
     "execution_count": 1,
     "metadata": {},
     "output_type": "execute_result"
    }
   ],
   "source": [
    "faturamento = 1000\n",
    "type(faturamento)"
   ]
  },
  {
   "cell_type": "code",
   "execution_count": 2,
   "metadata": {},
   "outputs": [
    {
     "data": {
      "text/plain": [
       "float"
      ]
     },
     "execution_count": 2,
     "metadata": {},
     "output_type": "execute_result"
    }
   ],
   "source": [
    "faturamento = 1000.00\n",
    "type(faturamento)"
   ]
  },
  {
   "cell_type": "code",
   "execution_count": 3,
   "metadata": {},
   "outputs": [
    {
     "data": {
      "text/plain": [
       "str"
      ]
     },
     "execution_count": 3,
     "metadata": {},
     "output_type": "execute_result"
    }
   ],
   "source": [
    "faturamento = '1.000'\n",
    "type(faturamento)"
   ]
  },
  {
   "cell_type": "code",
   "execution_count": 4,
   "metadata": {},
   "outputs": [
    {
     "data": {
      "text/plain": [
       "bool"
      ]
     },
     "execution_count": 4,
     "metadata": {},
     "output_type": "execute_result"
    }
   ],
   "source": [
    "ganha_bonus = True\n",
    "type(ganha_bonus)"
   ]
  },
  {
   "cell_type": "code",
   "execution_count": null,
   "metadata": {},
   "outputs": [],
   "source": [
    "abs:                 Retorna o valor absoluto de um número (módulo).\n",
    "all:                 Retorna True se todos os elementos de um iterável forem verdadeiros (ou se o iterável estiver vazio).\n",
    "and:                 Operador lógico “e”. Retorna True se ambas as expressões forem verdadeiras.\n",
    "any:                 Retorna True se pelo menos um elemento de um iterável for verdadeiro.\n",
    "as:                  Usado para criar um alias (apelido) para um módulo ou classe.\n",
    "assert:              Verifica se uma condição é verdadeira. Se não for, gera uma exceção.\n",
    "bin:                 Converte um número para sua representação binária.\n",
    "bool:                Tipo de dado booleano (True ou False).\n",
    "break:               Encerra o loop (geralmente usado em loops for ou while).\n",
    "breakpoint:          Ponto de interrupção para depuração.\n",
    "bytearray:           Tipo de dado mutável que representa uma sequência de bytes.\n",
    "bytes:               Tipo de dado imutável que representa uma sequência de bytes.\n",
    "callable:            Retorna True se o objeto pode ser chamado (função, método etc.).\n",
    "chr:                 Retorna o caractere correspondente a um código Unicode.\n",
    "class:               Define uma classe.\n",
    "classmethod:         Define um método de classe.\n",
    "compile:             Compila um código Python em um objeto código ou AST.\n",
    "complex:             Cria um número complexo.\n",
    "continue:            Pula a iteração atual de um loop e continua com a próxima.\n",
    "def:                 Define uma função.\n",
    "del:                 Remove uma variável ou item de um contêiner.\n",
    "delattr:             Remove um atributo de um objeto.\n",
    "dict:                Tipo de dado dicionário (mapeamento de chaves para valores).\n",
    "dir:                 Retorna uma lista de nomes de atributos de um objeto.\n",
    "divmod:              Retorna o quociente e o resto da divisão.\n",
    "elif:                Usado em estruturas condicionais para verificar outra condição.\n",
    "else:                Bloco executado se a condição não for verdadeira.\n",
    "enumerate:           Gera pares índice-valor de um iterável.\n",
    "eval:                Avalia uma expressão Python a partir de uma string.\n",
    "except:              Captura exceções em blocos try.\n",
    "exec:                Executa código Python dinamicamente a partir de uma string.\n",
    "False:               Valor booleano falso.\n",
    "filter:              Filtra elementos de um iterável com base em uma função.\n",
    "finally:             Bloco executado sempre após um bloco try.\n",
    "float:               Tipo de dado ponto flutuante.\n",
    "for:                 Inicia um loop for.\n",
    "format:              Formata uma string.\n",
    "from:                Usado para importar partes específicas de um módulo.\n",
    "frozenset:           Tipo de dado conjunto imutável.\n",
    "getattr:             Retorna o valor de um atributo de um objeto.\n",
    "global:              Indica que uma variável é global.\n",
    "globals:             Retorna um dicionário com todas as variáveis globais.\n",
    "hasattr:             Verifica se um objeto tem um atributo.\n",
    "hash:                Retorna o valor hash de um objeto.\n",
    "help:                Exibe a documentação de um objeto.\n",
    "hex:                 Converte um número para sua representação hexadecimal.\n",
    "id:                  Retorna o identificador único de um objeto.\n",
    "if:                  Inicia uma estrutura condicional.\n",
    "import:              Importa um módulo.\n",
    "in:                  Verifica se um valor está presente em um iterável."
   ]
  },
  {
   "cell_type": "markdown",
   "metadata": {},
   "source": [
    "### Como misturar tipos diferentes de Variaveis\n"
   ]
  },
  {
   "cell_type": "code",
   "execution_count": 6,
   "metadata": {},
   "outputs": [
    {
     "name": "stdout",
     "output_type": "stream",
     "text": [
      "O faturamento da loja foi 1000\n"
     ]
    }
   ],
   "source": [
    "faturamento = 1000\n",
    "\n",
    "print('O faturamento da loja foi ' + str(faturamento))"
   ]
  },
  {
   "cell_type": "markdown",
   "metadata": {},
   "source": [
    "### Metodo Format"
   ]
  },
  {
   "cell_type": "code",
   "execution_count": 2,
   "metadata": {},
   "outputs": [
    {
     "name": "stdout",
     "output_type": "stream",
     "text": [
      "O faturamento da loja foi 1000. O custo foi 500. E o faturamento foi 500\n"
     ]
    }
   ],
   "source": [
    "faturamento = 1000\n",
    "custo = 500\n",
    "lucro = faturamento - custo\n",
    "\n",
    "print('O faturamento da loja foi {}. O custo foi {}. E o faturamento foi {}'.format(faturamento, custo, lucro))"
   ]
  },
  {
   "cell_type": "markdown",
   "metadata": {},
   "source": [
    "### Metodo f-String"
   ]
  },
  {
   "cell_type": "code",
   "execution_count": 3,
   "metadata": {},
   "outputs": [
    {
     "name": "stdout",
     "output_type": "stream",
     "text": [
      "O faturamento da loja foi 1000. O custo foi 500. E o faturamento foi 500\n"
     ]
    }
   ],
   "source": [
    "faturamento = 1000\n",
    "custo = 500\n",
    "lucro = faturamento - custo\n",
    "\n",
    "print(f'O faturamento da loja foi {faturamento}. O custo foi {custo}. E o faturamento foi {lucro}')"
   ]
  },
  {
   "cell_type": "markdown",
   "metadata": {},
   "source": [
    "### Mudança do tipo de Variavel\n"
   ]
  },
  {
   "cell_type": "code",
   "execution_count": 1,
   "metadata": {},
   "outputs": [
    {
     "name": "stdout",
     "output_type": "stream",
     "text": [
      "<class 'float'>\n",
      "<class 'float'>\n",
      "31.0\n"
     ]
    },
    {
     "ename": "",
     "evalue": "",
     "output_type": "error",
     "traceback": [
      "\u001b[1;31mThe Kernel crashed while executing code in the current cell or a previous cell. \n",
      "\u001b[1;31mPlease review the code in the cell(s) to identify a possible cause of the failure. \n",
      "\u001b[1;31mClick <a href='https://aka.ms/vscodeJupyterKernelCrash'>here</a> for more info. \n",
      "\u001b[1;31mView Jupyter <a href='command:jupyter.viewOutput'>log</a> for further details."
     ]
    }
   ],
   "source": [
    "faturamento = float(input(\"Insira o faturamento\"))\n",
    "custo = float(input(\"Insira o custo\"))\n",
    "\n",
    "print(type(faturamento))\n",
    "print(type(custo))\n",
    "\n",
    "lucro = faturamento - custo\n",
    "\n",
    "print(lucro)\n",
    "\n",
    "# str -> muda para string\n",
    "# int -> muda para inteiro\n",
    "# float -> muda para float"
   ]
  }
 ],
 "metadata": {
  "kernelspec": {
   "display_name": "Python 3",
   "language": "python",
   "name": "python3"
  },
  "language_info": {
   "codemirror_mode": {
    "name": "ipython",
    "version": 3
   },
   "file_extension": ".py",
   "mimetype": "text/x-python",
   "name": "python",
   "nbconvert_exporter": "python",
   "pygments_lexer": "ipython3",
   "version": "3.12.2"
  }
 },
 "nbformat": 4,
 "nbformat_minor": 4
}
