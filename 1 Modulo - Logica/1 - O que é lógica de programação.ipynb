{
 "cells": [
  {
   "cell_type": "markdown",
   "metadata": {},
   "source": [
    "O que é lógica de programação? Basicamente o conjunto de comando que eu dou para meu computador executar uma tarefa\n",
    "\n",
    "---------> sempre que for executar algum projeto -> Escrever a logica de programação em pt_br em um passo a passo de como executa-lo"
   ]
  }
 ],
 "metadata": {
  "kernelspec": {
   "display_name": "Python 3",
   "language": "python",
   "name": "python3"
  },
  "language_info": {
   "codemirror_mode": {
    "name": "ipython",
    "version": 3
   },
   "file_extension": ".py",
   "mimetype": "text/x-python",
   "name": "python",
   "nbconvert_exporter": "python",
   "pygments_lexer": "ipython3",
   "version": "3.12.2"
  }
 },
 "nbformat": 4,
 "nbformat_minor": 2
}
