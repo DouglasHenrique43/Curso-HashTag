{
 "cells": [
  {
   "cell_type": "markdown",
   "id": "9d4ec1f7-92e3-4764-8b47-318a52fc62c4",
   "metadata": {},
   "source": [
    "# Criando QR Code"
   ]
  },
  {
   "cell_type": "markdown",
   "id": "6a649f54-8f0f-46dd-933a-e934d67e51b0",
   "metadata": {},
   "source": [
    "Para instalar:\n",
    "\n",
    "```\n",
    "pip install qrcode\n",
    "pip install Pillow\n",
    "```"
   ]
  },
  {
   "cell_type": "markdown",
   "id": "0fbaf527-bc67-4257-8bef-1170385b9599",
   "metadata": {},
   "source": [
    "Documentação: https://github.com/lincolnloop/python-qrcode"
   ]
  },
  {
   "cell_type": "markdown",
   "id": "0a2ec7b0-c74f-4857-a6a7-2b79641a44da",
   "metadata": {},
   "source": [
    "Links da Hashtag:\n",
    "\n",
    "- https://www.youtube.com/@HashtagProgramacao\n",
    "- https://www.facebook.com/hashtagprogramacao\n",
    "- https://www.instagram.com/hashtagprogramacao\n",
    "- https://www.youtube.com/@HashtagProgramacao\n",
    "- https://www.tiktok.com/@hashtagprogramacao"
   ]
  },
  {
   "cell_type": "markdown",
   "id": "fbd74860-92b2-4efe-96cb-1bd4f701ba30",
   "metadata": {},
   "source": [
    "## QR Code simples"
   ]
  },
  {
   "cell_type": "code",
   "execution_count": null,
   "id": "fd119601-460f-46af-997f-0cfdb747838a",
   "metadata": {
    "tags": []
   },
   "outputs": [],
   "source": [
    "import qrcode\n",
    "\n",
    "imagem = qrcode.make(\"https://www.youtube.com/@HashtagProgramacao\")\n",
    "imagem.save(\"qrcode.png\")"
   ]
  },
  {
   "cell_type": "markdown",
   "id": "0df50a17-96db-49b2-bf18-d00f8193ae0e",
   "metadata": {},
   "source": [
    "## QR Code com imagem"
   ]
  },
  {
   "cell_type": "code",
   "execution_count": null,
   "id": "42e7449e-410c-4dec-8c6b-477953408a2e",
   "metadata": {
    "tags": []
   },
   "outputs": [],
   "source": [
    "import qrcode \n",
    "from qrcode.image.styledpil import StyledPilImage\n",
    "\n",
    "qr = qrcode.QRCode(error_correction=qrcode.constants.ERROR_CORRECT_H)  # para poder adicionar uma imagem\n",
    "qr.add_data(\"https://www.youtube.com/@HashtagProgramacao\")\n",
    "\n",
    "imagem = qr.make_image(\n",
    "    image_factory=StyledPilImage,\n",
    "    embeded_image_path=\"logo.png\",\n",
    ")\n",
    "\n",
    "imagem.save(\"qrcode_logo.png\")"
   ]
  },
  {
   "cell_type": "markdown",
   "id": "6bd9dccf-64e7-4dfe-b4cb-f81ef1cd2f9f",
   "metadata": {},
   "source": [
    "## Criando diversos QR Code ao mesmo tempo"
   ]
  },
  {
   "cell_type": "code",
   "execution_count": 1,
   "id": "bf309d81-6d6b-4264-b2f8-2dbac7568bbd",
   "metadata": {
    "tags": []
   },
   "outputs": [
    {
     "ename": "NameError",
     "evalue": "name 'qrcode' is not defined",
     "output_type": "error",
     "traceback": [
      "\u001b[1;31m---------------------------------------------------------------------------\u001b[0m",
      "\u001b[1;31mNameError\u001b[0m                                 Traceback (most recent call last)",
      "Cell \u001b[1;32mIn[1], line 9\u001b[0m\n\u001b[0;32m      1\u001b[0m redes_sociais \u001b[38;5;241m=\u001b[39m {\n\u001b[0;32m      2\u001b[0m     \u001b[38;5;124m\"\u001b[39m\u001b[38;5;124mFacebook\u001b[39m\u001b[38;5;124m\"\u001b[39m: \u001b[38;5;124m\"\u001b[39m\u001b[38;5;124mhttps://www.facebook.com/hashtagprogramacao\u001b[39m\u001b[38;5;124m\"\u001b[39m,\n\u001b[0;32m      3\u001b[0m     \u001b[38;5;124m\"\u001b[39m\u001b[38;5;124mInstagram\u001b[39m\u001b[38;5;124m\"\u001b[39m: \u001b[38;5;124m\"\u001b[39m\u001b[38;5;124mhttps://www.instagram.com/hashtagprogramacao\u001b[39m\u001b[38;5;124m\"\u001b[39m,\n\u001b[0;32m      4\u001b[0m     \u001b[38;5;124m\"\u001b[39m\u001b[38;5;124mYouTube\u001b[39m\u001b[38;5;124m\"\u001b[39m: \u001b[38;5;124m\"\u001b[39m\u001b[38;5;124mhttps://www.youtube.com/@HashtagProgramacao\u001b[39m\u001b[38;5;124m\"\u001b[39m,\n\u001b[0;32m      5\u001b[0m     \u001b[38;5;124m\"\u001b[39m\u001b[38;5;124mTikTok\u001b[39m\u001b[38;5;124m\"\u001b[39m: \u001b[38;5;124m\"\u001b[39m\u001b[38;5;124mhttps://www.tiktok.com/@hashtagprogramacao\u001b[39m\u001b[38;5;124m\"\u001b[39m,\n\u001b[0;32m      6\u001b[0m }\n\u001b[0;32m      8\u001b[0m \u001b[38;5;28;01mfor\u001b[39;00m rede_social, url \u001b[38;5;129;01min\u001b[39;00m redes_sociais\u001b[38;5;241m.\u001b[39mitems():\n\u001b[1;32m----> 9\u001b[0m     qr \u001b[38;5;241m=\u001b[39m \u001b[43mqrcode\u001b[49m\u001b[38;5;241m.\u001b[39mQRCode(error_correction\u001b[38;5;241m=\u001b[39mqrcode\u001b[38;5;241m.\u001b[39mconstants\u001b[38;5;241m.\u001b[39mERROR_CORRECT_H)\n\u001b[0;32m     10\u001b[0m     qr\u001b[38;5;241m.\u001b[39madd_data(url)\n\u001b[0;32m     12\u001b[0m     imagem \u001b[38;5;241m=\u001b[39m qr\u001b[38;5;241m.\u001b[39mmake_image(\n\u001b[0;32m     13\u001b[0m         image_factory\u001b[38;5;241m=\u001b[39mStyledPilImage,\n\u001b[0;32m     14\u001b[0m         embeded_image_path\u001b[38;5;241m=\u001b[39m\u001b[38;5;124m\"\u001b[39m\u001b[38;5;124mlogo.png\u001b[39m\u001b[38;5;124m\"\u001b[39m,\n\u001b[0;32m     15\u001b[0m     )\n",
      "\u001b[1;31mNameError\u001b[0m: name 'qrcode' is not defined"
     ]
    }
   ],
   "source": [
    "redes_sociais = {\n",
    "    \"Facebook\": \"https://www.facebook.com/hashtagprogramacao\",\n",
    "    \"Instagram\": \"https://www.instagram.com/hashtagprogramacao\",\n",
    "    \"YouTube\": \"https://www.youtube.com/@HashtagProgramacao\",\n",
    "    \"TikTok\": \"https://www.tiktok.com/@hashtagprogramacao\",\n",
    "}\n",
    "\n",
    "for rede_social, url in redes_sociais.items():\n",
    "    qr = qrcode.QRCode(error_correction=qrcode.constants.ERROR_CORRECT_H)\n",
    "    qr.add_data(url)\n",
    "\n",
    "    imagem = qr.make_image(\n",
    "        image_factory=StyledPilImage,\n",
    "        embeded_image_path=\"logo.png\",\n",
    "    )\n",
    "\n",
    "    imagem.save(f\"sociais_{rede_social}.png\")"
   ]
  }
 ],
 "metadata": {
  "kernelspec": {
   "display_name": "Python 3",
   "language": "python",
   "name": "python3"
  },
  "language_info": {
   "codemirror_mode": {
    "name": "ipython",
    "version": 3
   },
   "file_extension": ".py",
   "mimetype": "text/x-python",
   "name": "python",
   "nbconvert_exporter": "python",
   "pygments_lexer": "ipython3",
   "version": "3.12.2"
  }
 },
 "nbformat": 4,
 "nbformat_minor": 5
}
