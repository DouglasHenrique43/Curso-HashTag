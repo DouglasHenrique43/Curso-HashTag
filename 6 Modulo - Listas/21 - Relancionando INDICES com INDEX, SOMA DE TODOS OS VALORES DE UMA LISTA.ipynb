{
 "cells": [
  {
   "cell_type": "markdown",
   "metadata": {},
   "source": [
    "# Exercícios\n",
    "\n",
    "## 1. Faturamento do Melhor e do Pior Mês do Ano\n",
    "\n",
    "Qual foi o valor de vendas do melhor mês do Ano?\n",
    "E valor do pior mês do ano?"
   ]
  },
  {
   "cell_type": "code",
   "execution_count": 14,
   "metadata": {},
   "outputs": [
    {
     "name": "stdout",
     "output_type": "stream",
     "text": [
      "[25000, 29000, 22200, 17750, 15870, 11, 19850, 20120, 17540, 15555, 49051, 121]\n"
     ]
    }
   ],
   "source": [
    "meses = ['jan', 'fev', 'mar', 'abr', 'mai', 'jun', 'jul', 'ago', 'set', 'out', 'nov', 'dez']\n",
    "vendas_1sem = [25000, 29000, 22200, 17750, 15870, 11]\n",
    "vendas_2sem = [19850, 20120, 17540, 15555, 49051, 121]\n",
    "vendas_1sem.extend(vendas_2sem)\n",
    "vendas_ano = vendas_1sem\n",
    "print(vendas_ano)"
   ]
  },
  {
   "cell_type": "code",
   "execution_count": 3,
   "metadata": {},
   "outputs": [
    {
     "name": "stdout",
     "output_type": "stream",
     "text": [
      "O maior valor de vendas do ano foi 49051 no mês de nov\n"
     ]
    }
   ],
   "source": [
    "vendas_1sem = vendas_1sem + vendas_2sem # juntei as listas para ficar mais facil\n",
    "def max_vendas1(meses, vendas_1sem): # Fiz essa definição para repetir essa linha de codigo sempre que chamar a def novamente\n",
    "    \n",
    "    max_vendas = max(vendas_1sem) # Aqui eu descobri qual é o maior valor da lista\n",
    "    \n",
    "    indice_max_vendas = vendas_1sem.index(max_vendas) # Aqui eu peguei a lista de vendas, indexei a variavel que tem a fumção max para descobrir o indice do max\n",
    "    \n",
    "    mes_max_vendas = meses[indice_max_vendas] # Aqui eu relacionei a lista meses com o indice do max\n",
    "    \n",
    "    print(f'O maior valor de vendas do ano foi {max_vendas} no mês de {mes_max_vendas}')\n",
    "\n",
    "max_vendas1(meses, vendas_1sem)\n"
   ]
  },
  {
   "cell_type": "code",
   "execution_count": 15,
   "metadata": {},
   "outputs": [
    {
     "name": "stdout",
     "output_type": "stream",
     "text": [
      "Índice 0: jan - 25000\n",
      "Índice 1: fev - 29000\n",
      "Índice 2: mar - 22200\n",
      "Índice 3: abr - 17750\n",
      "Índice 4: mai - 15870\n",
      "Índice 5: jun - 11\n",
      "Índice 6: jul - 19850\n",
      "Índice 7: ago - 20120\n",
      "Índice 8: set - 17540\n",
      "Índice 9: out - 15555\n",
      "Índice 10: nov - 49051\n",
      "Índice 11: dez - 121\n"
     ]
    }
   ],
   "source": [
    "\n",
    "def conc(meses, vendas_ano): \n",
    "\n",
    "    for i, (meses, vendas_ano) in enumerate(zip(meses, vendas_ano)): # para cada indice na def, nas listas zipadas\n",
    "        print(f\"Índice {i}: {meses} - {vendas_ano}\")\n",
    "\n",
    "conc(meses, vendas_ano)"
   ]
  },
  {
   "cell_type": "markdown",
   "metadata": {},
   "source": [
    "## 2. Continuação\n",
    "\n",
    "Agora relacione as duas listas para printar 'O melhor mês do ano foi {} com {} vendas' e o mesmo para o pior mês do ano.\n",
    "\n",
    "Calcule também o faturamento total do Ano e quanto que o melhor mês representou do faturamento total.\n",
    "\n",
    "Obs: Para o faturamento total, pode usar a função sum(lista) que soma todos os itens de uma lista"
   ]
  },
  {
   "cell_type": "code",
   "execution_count": 11,
   "metadata": {},
   "outputs": [
    {
     "name": "stdout",
     "output_type": "stream",
     "text": [
      "O faturamento total foi de R$232,068\n"
     ]
    }
   ],
   "source": [
    "lista = sum(vendas_1sem)\n",
    "print('O faturamento total foi de R${:,}'.format(lista)) # fiz isso só para saber como formata valor monetario"
   ]
  },
  {
   "cell_type": "markdown",
   "metadata": {},
   "source": [
    "## 3. Crie uma lista com o top 3 valores de vendas do ano (sem fazer \"no olho\")\n",
    "\n",
    "Dica: o método remove retira um item da lista."
   ]
  },
  {
   "cell_type": "code",
   "execution_count": 2,
   "metadata": {},
   "outputs": [],
   "source": [
    "top3 = []# basicamente pegar o max, e depois o remove(max) e repete o processo 3x"
   ]
  }
 ],
 "metadata": {
  "kernelspec": {
   "display_name": "Python 3",
   "language": "python",
   "name": "python3"
  },
  "language_info": {
   "codemirror_mode": {
    "name": "ipython",
    "version": 3
   },
   "file_extension": ".py",
   "mimetype": "text/x-python",
   "name": "python",
   "nbconvert_exporter": "python",
   "pygments_lexer": "ipython3",
   "version": "3.12.2"
  }
 },
 "nbformat": 4,
 "nbformat_minor": 4
}
