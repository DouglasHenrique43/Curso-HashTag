{
 "cells": [
  {
   "cell_type": "markdown",
   "metadata": {},
   "source": [
    "# Juntar Listas, Ordenar e Cuidados Especiais\n",
    "\n",
    "### 2 formas:\n",
    "\n",
    "- lista1.extend(lista2)\n",
    "- lista_nova = lista1 + lista2\n",
    "\n",
    "Obs: o Método .append não junta listas, mas adiciona um valor no final da lista"
   ]
  },
  {
   "cell_type": "code",
   "execution_count": 8,
   "metadata": {},
   "outputs": [
    {
     "name": "stdout",
     "output_type": "stream",
     "text": [
      "['apple tv', 'mac', 'iphone x', 'iphone 11', 'IPad', 'apple watch', 'mac book', 'airpods', 'iphone 12', 'ioculos']\n",
      "['apple tv', 'mac', 'iphone x', 'iphone 11', 'IPad', 'apple watch', 'mac book', 'airpods', 'iphone 12', 'ioculos']\n"
     ]
    }
   ],
   "source": [
    "produtos = ['apple tv', 'mac', 'iphone x', 'iphone 11', 'IPad', 'apple watch', 'mac book', 'airpods']\n",
    "novos_produtos = ['iphone 12', 'ioculos']\n",
    "nova = produtos + novos_produtos\n",
    "print(nova)\n",
    "produtos.extend(novos_produtos)\n",
    "print(produtos)"
   ]
  },
  {
   "cell_type": "markdown",
   "metadata": {},
   "source": [
    "### Cuidado:\n",
    "\n",
    "- [1] + [2] não é a mesma coisa que 1 + 2, então cuidado sempre com o formato dos valores na hora de fazer operações."
   ]
  },
  {
   "cell_type": "code",
   "execution_count": 13,
   "metadata": {},
   "outputs": [],
   "source": [
    "vendas = [1000, 1500, 15000, 20000, 270, 900, 100, 1200]\n",
    "vendas_iphonex = [15000]\n",
    "vendas_iphone11 = [20000]"
   ]
  },
  {
   "cell_type": "markdown",
   "metadata": {},
   "source": [
    "### Ordenar listas em ordem crescendo ou decrescente\n",
    "\n",
    "lista.sort()"
   ]
  },
  {
   "cell_type": "code",
   "execution_count": 20,
   "metadata": {},
   "outputs": [
    {
     "name": "stdout",
     "output_type": "stream",
     "text": [
      "['IPad', 'airpods', 'apple tv', 'apple watch', 'ioculos', 'iphone 11', 'iphone 12', 'iphone x', 'mac', 'mac book']\n",
      "[20000, 15000, 1500, 1200, 1000, 900, 270, 100]\n",
      "[100, 270, 900, 1000, 1200, 1500, 15000, 20000]\n"
     ]
    }
   ],
   "source": [
    "produtos.sort() # Coloca em ordem crescente\n",
    "print(produtos)\n",
    "vendas.sort(reverse=True) # inverte em ordem decrescente\n",
    "print(vendas)\n",
    "vendas.sort()\n",
    "print(vendas)"
   ]
  }
 ],
 "metadata": {
  "kernelspec": {
   "display_name": "Python 3",
   "language": "python",
   "name": "python3"
  },
  "language_info": {
   "codemirror_mode": {
    "name": "ipython",
    "version": 3
   },
   "file_extension": ".py",
   "mimetype": "text/x-python",
   "name": "python",
   "nbconvert_exporter": "python",
   "pygments_lexer": "ipython3",
   "version": "3.12.2"
  }
 },
 "nbformat": 4,
 "nbformat_minor": 4
}
