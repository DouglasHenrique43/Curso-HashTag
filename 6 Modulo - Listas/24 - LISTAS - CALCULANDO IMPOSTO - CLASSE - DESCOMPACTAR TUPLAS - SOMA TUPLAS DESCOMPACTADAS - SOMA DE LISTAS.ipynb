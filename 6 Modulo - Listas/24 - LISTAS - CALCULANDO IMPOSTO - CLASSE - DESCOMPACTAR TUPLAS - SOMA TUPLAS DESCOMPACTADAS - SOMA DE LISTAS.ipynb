{
 "cells": [
  {
   "cell_type": "markdown",
   "metadata": {},
   "source": [
    "# Exercícios\n",
    "\n",
    "## 1. Mudança de Carga Tributária\n",
    "\n",
    "- Reformas e mudanças de cargas tributárias são bem comuns no Brasil.\n",
    "\n",
    "Digamos que você trabalhe em uma empresa de ecommerce\n",
    "\n",
    "No Brasil, o imposto sobre livros é zerado. De um ano para o outro, o governo criou um novo imposto que incide em 10% sobre o valor dos livros e agora você precisa alterar o registro dos preços dos livros da empresa para garantir que esse imposto vai ser repassado para o preço final do produto.\n",
    "\n",
    "Crie um código que recalcule o valor do livro da sua lista de produtos e ajuste na tabela.\n",
    "\n",
    "Além disso, calcule qual vai ser o impacto financeiro da criação desse imposto para a empresa (ou seja, quanto que o imposto vai aumentar de custo para a empresa)\n",
    "\n",
    "Obs: para facilitar, colocamos apenas 1 livro na lista, mas em breve vamos aprender um for que vai adaptar esse cenário para qualquer quantidade de livros na sua lista.\n",
    "\n",
    "Obs2: Seu código deve funcionar mesmo que não haja livros na lista de produtos da empresa"
   ]
  },
  {
   "cell_type": "markdown",
   "metadata": {},
   "source": [
    "## Separei as vendas por meses em conjunto de produtos, e o mesmo processo com os impostos"
   ]
  },
  {
   "cell_type": "code",
   "execution_count": 2,
   "metadata": {},
   "outputs": [
    {
     "name": "stdout",
     "output_type": "stream",
     "text": [
      "VENDAS POR PRODUTO\n",
      "Mês 1 - Produto: computador - Vendas: R$ 10,000.00\n",
      "Mês 2 - Produto: computador - Vendas: R$ 2,500.00\n",
      "\n",
      "VENDAS POR PRODUTO\n",
      "Mês 1 - Produto: livro - Vendas: R$ 50,000.00\n",
      "Mês 2 - Produto: livro - Vendas: R$ 40.00\n",
      "\n",
      "VENDAS POR PRODUTO\n",
      "Mês 1 - Produto: tablet - Vendas: R$ 7,000.00\n",
      "Mês 2 - Produto: tablet - Vendas: R$ 1,200.00\n",
      "\n",
      "VENDAS POR PRODUTO\n",
      "Mês 1 - Produto: celular - Vendas: R$ 20,000.00\n",
      "Mês 2 - Produto: celular - Vendas: R$ 1,500.00\n",
      "\n",
      "VENDAS POR PRODUTO\n",
      "Mês 1 - Produto: tv - Vendas: R$ 5,800.00\n",
      "Mês 2 - Produto: tv - Vendas: R$ 1,300.00\n",
      "\n",
      "VENDAS POR PRODUTO\n",
      "Mês 1 - Produto: ar condicionado - Vendas: R$ 7,200.00\n",
      "Mês 2 - Produto: ar condicionado - Vendas: R$ 2,500.00\n",
      "\n",
      "VENDAS POR PRODUTO\n",
      "Mês 1 - Produto: alexa - Vendas: R$ 200.00\n",
      "Mês 2 - Produto: alexa - Vendas: R$ 800.00\n",
      "\n",
      "VENDAS POR PRODUTO\n",
      "Mês 1 - Produto: máquina de café - Vendas: R$ 3,300.00\n",
      "Mês 2 - Produto: máquina de café - Vendas: R$ 700.00\n",
      "\n",
      "VENDAS POR PRODUTO\n",
      "Mês 1 - Produto: kindle - Vendas: R$ 1,900.00\n",
      "Mês 2 - Produto: kindle - Vendas: R$ 400.00\n",
      "\n",
      "IMPOSTO POR PRODUTO\n",
      "Mês 1 - Produto: computador - Base de cálculo: R$ 10000.00 - Imposto: R$ 100.00\n",
      "Mês 2 - Produto: computador - Base de cálculo: R$ 2500.00 - Imposto: R$ 25.00\n",
      "\n",
      "IMPOSTO POR PRODUTO\n",
      "Mês 1 - Produto: livro - Base de cálculo: R$ 50000.00 - Imposto: R$ 500.00\n",
      "Mês 2 - Produto: livro - Base de cálculo: R$ 40.00 - Imposto: R$ 0.40\n",
      "\n",
      "IMPOSTO POR PRODUTO\n",
      "Mês 1 - Produto: tablet - Base de cálculo: R$ 7000.00 - Imposto: R$ 70.00\n",
      "Mês 2 - Produto: tablet - Base de cálculo: R$ 1200.00 - Imposto: R$ 12.00\n",
      "\n",
      "IMPOSTO POR PRODUTO\n",
      "Mês 1 - Produto: celular - Base de cálculo: R$ 20000.00 - Imposto: R$ 200.00\n",
      "Mês 2 - Produto: celular - Base de cálculo: R$ 1500.00 - Imposto: R$ 15.00\n",
      "\n",
      "IMPOSTO POR PRODUTO\n",
      "Mês 1 - Produto: tv - Base de cálculo: R$ 5800.00 - Imposto: R$ 58.00\n",
      "Mês 2 - Produto: tv - Base de cálculo: R$ 1300.00 - Imposto: R$ 13.00\n",
      "\n",
      "IMPOSTO POR PRODUTO\n",
      "Mês 1 - Produto: ar condicionado - Base de cálculo: R$ 7200.00 - Imposto: R$ 72.00\n",
      "Mês 2 - Produto: ar condicionado - Base de cálculo: R$ 2500.00 - Imposto: R$ 25.00\n",
      "\n",
      "IMPOSTO POR PRODUTO\n",
      "Mês 1 - Produto: alexa - Base de cálculo: R$ 200.00 - Imposto: R$ 2.00\n",
      "Mês 2 - Produto: alexa - Base de cálculo: R$ 800.00 - Imposto: R$ 8.00\n",
      "\n",
      "IMPOSTO POR PRODUTO\n",
      "Mês 1 - Produto: máquina de café - Base de cálculo: R$ 3300.00 - Imposto: R$ 33.00\n",
      "Mês 2 - Produto: máquina de café - Base de cálculo: R$ 700.00 - Imposto: R$ 7.00\n",
      "\n",
      "IMPOSTO POR PRODUTO\n",
      "Mês 1 - Produto: kindle - Base de cálculo: R$ 1900.00 - Imposto: R$ 19.00\n",
      "Mês 2 - Produto: kindle - Base de cálculo: R$ 400.00 - Imposto: R$ 4.00\n",
      "\n"
     ]
    }
   ],
   "source": [
    "produtos = ['computador', 'livro', 'tablet', 'celular', 'tv', 'ar condicionado', 'alexa', 'máquina de café', 'kindle']\n",
    "\n",
    "# cada item da lista dos produtos corresponde a quantidade de vendas no mês e preço, nessa ordem\n",
    "produtos_ecommerce = [\n",
    "    [10000, 2500],\n",
    "    [50000, 40],\n",
    "    [7000, 1200],\n",
    "    [20000, 1500],\n",
    "    [5800, 1300],\n",
    "    [7200, 2500],\n",
    "    [200, 800],\n",
    "    [3300, 700],\n",
    "    [1900, 400]\n",
    "]\n",
    "\n",
    "tax = 0.01\n",
    "class MesUm:\n",
    "\n",
    "    def vendas_mes_um(self, produtos, produtos_ecommerce, start=1): # nesse caso, não houve problema em alterar meus valores originais, por que eu apenas iterei eles e retornei com print.\n",
    "        for i, (produto, vendas) in enumerate(zip(produtos, produtos_ecommerce)):\n",
    "            print(f'VENDAS POR PRODUTO\\nMês 1 - Produto: {produto} - Vendas: R$ {vendas[0]:,.2f}')\n",
    "            print(f'Mês 2 - Produto: {produto} - Vendas: R$ {vendas[1]:,.2f}\\n')  # Adiciona uma quebra de linha\n",
    "\n",
    "\n",
    "    def calculando_imposto_mensal(self, produtos_ecommerce, tax, start=1):\n",
    "        for i, (produto, (base_de_calculo_primeiro_mes, base_de_calculo_segundo_mes)) in enumerate(zip(produtos, produtos_ecommerce)): # quando eu quero fazer o for ou outra coisa com apenas uma coluna de indice da lista eu usaria (_ ,algum_nome ou algum_nome, _)\n",
    "            imposto_primeiro_mes = base_de_calculo_primeiro_mes * tax # Eu recebi cada coluna da lista nessas variaveis\n",
    "            imposto_segundo_mes = base_de_calculo_segundo_mes * tax\n",
    "            print(f'IMPOSTO POR PRODUTO\\nMês 1 - Produto: {produto} - Base de cálculo: R$ {base_de_calculo_primeiro_mes:.2f} - Imposto: R$ {imposto_primeiro_mes:.2f}')\n",
    "            print(f'Mês 2 - Produto: {produto} - Base de cálculo: R$ {base_de_calculo_segundo_mes:.2f} - Imposto: R$ {imposto_segundo_mes:.2f}\\n')\n",
    "\n",
    "# Criando uma instância da classe\n",
    "mes_um_instance = MesUm()\n",
    "\n",
    "# Chamando os métodos\n",
    "mes_um_instance.vendas_mes_um(produtos, produtos_ecommerce)\n",
    "mes_um_instance.calculando_imposto_mensal(produtos_ecommerce, tax)\n"
   ]
  },
  {
   "cell_type": "markdown",
   "metadata": {},
   "source": [
    "## Simulando o ZIP e ENUMERATE com for e in"
   ]
  },
  {
   "cell_type": "code",
   "execution_count": 3,
   "metadata": {},
   "outputs": [
    {
     "name": "stdout",
     "output_type": "stream",
     "text": [
      "Produto 1: computador - Vendas Mês 1: R$ 10,000.00 - Vendas Mês 2: R$ 2,500.00\n",
      "Produto 2: livro - Vendas Mês 1: R$ 50,000.00 - Vendas Mês 2: R$ 40.00\n",
      "Produto 3: tablet - Vendas Mês 1: R$ 7,000.00 - Vendas Mês 2: R$ 1,200.00\n",
      "Produto 4: celular - Vendas Mês 1: R$ 20,000.00 - Vendas Mês 2: R$ 1,500.00\n",
      "Produto 5: tv - Vendas Mês 1: R$ 5,800.00 - Vendas Mês 2: R$ 1,300.00\n",
      "Produto 6: ar condicionado - Vendas Mês 1: R$ 7,200.00 - Vendas Mês 2: R$ 2,500.00\n",
      "Produto 7: alexa - Vendas Mês 1: R$ 200.00 - Vendas Mês 2: R$ 800.00\n",
      "Produto 8: máquina de café - Vendas Mês 1: R$ 3,300.00 - Vendas Mês 2: R$ 700.00\n",
      "Produto 9: kindle - Vendas Mês 1: R$ 1,900.00 - Vendas Mês 2: R$ 400.00\n"
     ]
    }
   ],
   "source": [
    "produtos = ['computador', 'livro', 'tablet', 'celular', 'tv', 'ar condicionado', 'alexa', 'máquina de café', 'kindle']\n",
    "produtos_ecommerce = [\n",
    "    [10000, 2500],\n",
    "    [50000, 40],\n",
    "    [7000, 1200],\n",
    "    [20000, 1500],\n",
    "    [5800, 1300],\n",
    "    [7200, 2500],\n",
    "    [200, 800],\n",
    "    [3300, 700],\n",
    "    [1900, 400]\n",
    "]\n",
    "tax = 0.01\n",
    "\n",
    "# Separando as vendas de cada mês\n",
    "vendas_mes1 = [vendas for vendas, _ in produtos_ecommerce] # aqui foi descompactado com o , _ no produtos_ecommerce\n",
    "vendas_mes2 = [vendas for _, vendas in produtos_ecommerce] # aqui foi descompactado com o _,  no produtos_ecommerce\n",
    "for i, produto in enumerate(produtos, start=1): \n",
    "    print(f\"Produto {i}: {produto} - Vendas Mês 1: R$ {vendas_mes1[i-1]:,.2f} - Vendas Mês 2: R$ {vendas_mes2[i-1]:,.2f}\")\n"
   ]
  },
  {
   "cell_type": "markdown",
   "metadata": {},
   "source": [
    "## Atualizei a base de calculo repassando o valor do imposto para o cliente"
   ]
  },
  {
   "cell_type": "code",
   "execution_count": 1,
   "metadata": {},
   "outputs": [
    {
     "name": "stdout",
     "output_type": "stream",
     "text": [
      "Produto: computador\n",
      "Mês 1 - Base de cálculo: R$ 10000.00 - Imposto: R$ 11000.00\n",
      "Mês 2 - Base de cálculo: R$ 2500.00 - Imposto: R$ 2750.00\n",
      "\n",
      "Produto: livro\n",
      "Mês 1 - Base de cálculo: R$ 50000.00 - Imposto: R$ 55000.00\n",
      "Mês 2 - Base de cálculo: R$ 40.00 - Imposto: R$ 44.00\n",
      "\n",
      "Produto: tablet\n",
      "Mês 1 - Base de cálculo: R$ 7000.00 - Imposto: R$ 7700.00\n",
      "Mês 2 - Base de cálculo: R$ 1200.00 - Imposto: R$ 1320.00\n",
      "\n",
      "Produto: celular\n",
      "Mês 1 - Base de cálculo: R$ 20000.00 - Imposto: R$ 22000.00\n",
      "Mês 2 - Base de cálculo: R$ 1500.00 - Imposto: R$ 1650.00\n",
      "\n",
      "Produto: tv\n",
      "Mês 1 - Base de cálculo: R$ 5800.00 - Imposto: R$ 6380.00\n",
      "Mês 2 - Base de cálculo: R$ 1300.00 - Imposto: R$ 1430.00\n",
      "\n",
      "Produto: ar condicionado\n",
      "Mês 1 - Base de cálculo: R$ 7200.00 - Imposto: R$ 7920.00\n",
      "Mês 2 - Base de cálculo: R$ 2500.00 - Imposto: R$ 2750.00\n",
      "\n",
      "Produto: alexa\n",
      "Mês 1 - Base de cálculo: R$ 200.00 - Imposto: R$ 220.00\n",
      "Mês 2 - Base de cálculo: R$ 800.00 - Imposto: R$ 880.00\n",
      "\n",
      "Produto: máquina de café\n",
      "Mês 1 - Base de cálculo: R$ 3300.00 - Imposto: R$ 3630.00\n",
      "Mês 2 - Base de cálculo: R$ 700.00 - Imposto: R$ 770.00\n",
      "\n",
      "Produto: kindle\n",
      "Mês 1 - Base de cálculo: R$ 1900.00 - Imposto: R$ 2090.00\n",
      "Mês 2 - Base de cálculo: R$ 400.00 - Imposto: R$ 440.00\n",
      "\n"
     ]
    }
   ],
   "source": [
    "produtos = ['computador', 'livro', 'tablet', 'celular', 'tv', 'ar condicionado', 'alexa', 'máquina de café', 'kindle']\n",
    "\n",
    "# Cada item da lista de produtos corresponde à quantidade de vendas no mês e preço, nessa ordem\n",
    "produtos_ecommerce = [\n",
    "    [10000, 2500],\n",
    "    [50000, 40],\n",
    "    [7000, 1200],\n",
    "    [20000, 1500],\n",
    "    [5800, 1300],\n",
    "    [7200, 2500],\n",
    "    [200, 800],\n",
    "    [3300, 700],\n",
    "    [1900, 400]\n",
    "]\n",
    "\n",
    "tax = 0.1\n",
    "\n",
    "for produto, (mes_um, mes_dois) in zip(produtos, produtos_ecommerce):\n",
    "    imposto_mes_um = mes_um * (1 + tax)\n",
    "    imposto_mes_dois = mes_dois * (1 + tax)\n",
    "    print(f'Produto: {produto}')\n",
    "    print(f'Mês 1 - Base de cálculo: R$ {mes_um:.2f} - Imposto: R$ {imposto_mes_um:.2f}')\n",
    "    print(f'Mês 2 - Base de cálculo: R$ {mes_dois:.2f} - Imposto: R$ {imposto_mes_dois:.2f}\\n')\n"
   ]
  },
  {
   "cell_type": "markdown",
   "metadata": {},
   "source": [
    "## Somando os impostos"
   ]
  },
  {
   "cell_type": "code",
   "execution_count": 4,
   "metadata": {},
   "outputs": [
    {
     "name": "stdout",
     "output_type": "stream",
     "text": [
      "Total de impostos: R$ 11,634.00\n"
     ]
    }
   ],
   "source": [
    "produtos = ['computador', 'livro', 'tablet', 'celular', 'tv', 'ar condicionado', 'alexa', 'máquina de café', 'kindle']\n",
    "\n",
    "# Cada item da lista de produtos corresponde à quantidade de vendas no mês e preço, nessa ordem\n",
    "produtos_ecommerce = [\n",
    "    [10000, 2500],\n",
    "    [50000, 40],\n",
    "    [7000, 1200],\n",
    "    [20000, 1500],\n",
    "    [5800, 1300],\n",
    "    [7200, 2500],\n",
    "    [200, 800],\n",
    "    [3300, 700],\n",
    "    [1900, 400]\n",
    "]\n",
    "\n",
    "taxa = 0.1\n",
    "total_impostos = 0\n",
    "\n",
    "for i, (vendas1, vendas2) in enumerate(produtos_ecommerce):\n",
    "    imposto_mes_um = vendas1 * taxa\n",
    "    imposto_mes_dois = vendas2 * taxa\n",
    "    total_impostos += imposto_mes_um + imposto_mes_dois\n",
    "\n",
    "print(f'Total de impostos: R$ {total_impostos:,.2f}')\n"
   ]
  },
  {
   "cell_type": "code",
   "execution_count": 12,
   "metadata": {},
   "outputs": [
    {
     "name": "stdout",
     "output_type": "stream",
     "text": [
      "Soma total dos valores: R$ 116340.00\n"
     ]
    }
   ],
   "source": [
    "# Uma lista de valores\n",
    "valores = [10000, 2500, 50000, 40, 7000, 1200, 20000, 1500, 5800, 1300, 7200, 2500, 200, 800, 3300, 700, 1900, 400]\n",
    "\n",
    "# Calculando a soma dos valores\n",
    "soma_total = sum(valores)\n",
    "\n",
    "print(f\"Soma total dos valores: R$ {soma_total:.2f}\")\n"
   ]
  }
 ],
 "metadata": {
  "kernelspec": {
   "display_name": "Python 3",
   "language": "python",
   "name": "python3"
  },
  "language_info": {
   "codemirror_mode": {
    "name": "ipython",
    "version": 3
   },
   "file_extension": ".py",
   "mimetype": "text/x-python",
   "name": "python",
   "nbconvert_exporter": "python",
   "pygments_lexer": "ipython3",
   "version": "3.12.2"
  }
 },
 "nbformat": 4,
 "nbformat_minor": 4
}
