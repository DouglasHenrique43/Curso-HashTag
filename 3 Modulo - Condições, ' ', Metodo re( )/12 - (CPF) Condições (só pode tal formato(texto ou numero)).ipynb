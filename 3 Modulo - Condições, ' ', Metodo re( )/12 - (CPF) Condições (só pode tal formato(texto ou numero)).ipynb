{
 "cells": [
  {
   "cell_type": "markdown",
   "metadata": {},
   "source": [
    "# Exercícios\n",
    "\n",
    "## 1. Cadastro de CPF\n",
    "\n",
    "Crie um programa para cadastro de CPF de clientes que recebe o CPF em um input box apenas com números.\n",
    "\n",
    "Ex: 'Insira seu CPF (digite apenas números)'\n",
    "\n",
    "Caso o usuário digite algo diferente de números ou digite menos de 11 caracteres (tamanho do CPF brasileiro), o programa deve exibir uma mensagem de \"Digite seu CPF corretamente e digite apenas números\""
   ]
  },
  {
   "cell_type": "code",
   "execution_count": 34,
   "metadata": {},
   "outputs": [
    {
     "name": "stdout",
     "output_type": "stream",
     "text": [
      "Por favor, digite um valor válido (somente numeros).\n",
      "Por favor, digite um valor válido (somente numeros).\n",
      "Por favor, digite um valor válido (somente numeros).\n"
     ]
    }
   ],
   "source": [
    "validos = \"1234567890 \" # aqui eu informei que somente esses caracteres numericos são aceitos\n",
    "while True:\n",
    "    entrada = input(\"Digite algo: \")\n",
    "    if all(c in validos for c in entrada) and len(entrada) == 11 : # c é a variavel que percorre cada caractere dessa string\n",
    "        break\n",
    "    else:\n",
    "        print(\"Por favor, digite um valor válido (somente numeros).\")\n"
   ]
  },
  {
   "cell_type": "code",
   "execution_count": 13,
   "metadata": {},
   "outputs": [
    {
     "name": "stdout",
     "output_type": "stream",
     "text": [
      "Por favor, digite um valor válido (somente letras e espaços).\n",
      "Por favor, digite um valor válido (somente letras e espaços).\n"
     ]
    }
   ],
   "source": [
    "while True:\n",
    "    entrada = input(\"Digite algo (somente numeros): \")\n",
    "    if all(c.isnumeric() for c in entrada) and len(entrada) == 11: # aqui ao invés de falar quais são aceitos, eu usei a função que já faz isso.\n",
    "        break # if all(c.isalpha() or c.isspace() for c in entrada): esses aqui conferem espaço e letras.\n",
    "    else:\n",
    "        print(\"Por favor, digite um valor válido (somente numeros).\")\n"
   ]
  },
  {
   "cell_type": "markdown",
   "metadata": {},
   "source": [
    "## 2. Melhorando nosso Cadastro de CPF\n",
    "\n",
    "Agora, além das validações anteriores, vamos criar um input que permita que o usuário insira pontos, traços e inclusive espaços vazios.\n",
    "\n",
    "Nosso programa deve \"tratar\" o que o usuário inserir para padronizar o CPF dele em apenas números.\n",
    "\n",
    "A verificação de tamanho do CPF com 11 caracteres continua válida, mas ela só deve ser feita depois de retirar todos os pontos, traços e espaços do CPF que o cliente inserir e, uma vez retirados pontos, traços e espaços, devem sobrar apenas números no CPF. Qualquer outro caractere deve ser considerado inválido.\n",
    "\n",
    "No final, nosso programa deve exibir uma mensagem para o usuário, caso ele tenha inserido o CPF inválido ou então apenas deve printar o CPF correto já só com número."
   ]
  },
  {
   "cell_type": "code",
   "execution_count": 35,
   "metadata": {},
   "outputs": [],
   "source": [
    "while True:\n",
    "    entrada = input(\"Digite seu CPF: \")\n",
    "    entrada = entrada.strip() # remove os espaços vazios.\n",
    "    entrada_sem_caracteres = entrada.replace('.', '').replace('-', '') # alterei caracteres para espaços vazios\n",
    "    if all(c.isnumeric() for c in entrada_sem_caracteres) and len(entrada_sem_caracteres) == 11: # isnumeric, comparação se é true ou false\n",
    "        break \n",
    "    else:\n",
    "        print(\"Por favor, digite um valor válido (somente numeros).\")\n"
   ]
  },
  {
   "cell_type": "markdown",
   "metadata": {},
   "source": [
    "<span style=\"color: red;\"><b> Metodo re() para travar caracteres especiais e também padrões ( travar caracteres, no fundo no fundo é um padrão não caracter)"
   ]
  },
  {
   "cell_type": "code",
   "execution_count": 18,
   "metadata": {},
   "outputs": [
    {
     "name": "stdout",
     "output_type": "stream",
     "text": [
      "Texto sem caracteres especiais: Texto com caracteres especiais\n"
     ]
    }
   ],
   "source": [
    "import re\n",
    "\n",
    "texto = \"Texto com caracteres especiais!@#\"\n",
    "texto_sem_especiais = re.sub(r\"[^\\w\\s]\", \"\", texto) # re.sub substituiu todos os caracteres especiais por espaços vazios\n",
    "\n",
    "print(f\"Texto sem caracteres especiais: {texto_sem_especiais}\")\n"
   ]
  },
  {
   "cell_type": "markdown",
   "metadata": {},
   "source": [
    "## 3. Cadastro de e-mails\n",
    "\n",
    "- A Hashtag sempre se comunica com seus clientes por e-mail. Para isso, a gente tem em cada página um cadastro de nome e e-mail. Nesse cadastro, nosso sistema verifica se o e-mail que a pessoa inseriu é um e-mail válido, verificando se ele tem '@' e se depois do '@' tem algum ponto, afinal:\n",
    "\n",
    "- liragmail.com NÃO é um e-mail válido\n",
    "- lira@gmail NÃO é um e-mail válido\n",
    "- lira@gmail.com é um e-mail válido\n",
    "\n",
    "Crie um programa que permita o cadastro de nome e e-mail de uma pessoa (por meio de inputs) e que verifique:\n",
    "1. Se nome e e-mail foram preenchidos, caso contrário ele deve avisar para preencher todos os dados corretamente\n",
    "2. Se o e-mail contém '@' e se depois do '@' existe algum '.', caso contrário ele deve exibir uma mensagem de e-mail inválido\n",
    "\n",
    "Obs: Pode te ajudar lembrar do método .find da aula de Métodos de String. Você pode testar o que ele dá como resposta caso ele não encontre um item dentro da string"
   ]
  },
  {
   "cell_type": "code",
   "execution_count": 1,
   "metadata": {},
   "outputs": [
    {
     "name": "stdout",
     "output_type": "stream",
     "text": [
      "E-mail válido\n"
     ]
    }
   ],
   "source": [
    "email = input('Digite seu e-mail: ')\n",
    "\n",
    "if '@' in email:\n",
    "    email_depois = email.split('@')[1]\n",
    "    if '.com' in email_depois:\n",
    "        print('E-mail válido')\n",
    "    else:\n",
    "        print('E-mail inválido')\n",
    "else:\n",
    "    print('E-mail inválido')\n"
   ]
  },
  {
   "cell_type": "markdown",
   "metadata": {},
   "source": [
    "<span style=\"color: red;\"><b> Inserir dados em determinados intervalos de indices"
   ]
  },
  {
   "cell_type": "code",
   "execution_count": 40,
   "metadata": {},
   "outputs": [
    {
     "name": "stdout",
     "output_type": "stream",
     "text": [
      "1234-5678-9012-3456-7890\n"
     ]
    }
   ],
   "source": [
    "x = 4  # Defina o valor de x (quantidade de caracteres entre os hífens)\n",
    "numero_formatado = \"-\".join(numero[i:i+x] for i in range(0, len(numero), x))\n",
    "print(numero_formatado)\n"
   ]
  }
 ],
 "metadata": {
  "kernelspec": {
   "display_name": "Python 3",
   "language": "python",
   "name": "python3"
  },
  "language_info": {
   "codemirror_mode": {
    "name": "ipython",
    "version": 3
   },
   "file_extension": ".py",
   "mimetype": "text/x-python",
   "name": "python",
   "nbconvert_exporter": "python",
   "pygments_lexer": "ipython3",
   "version": "3.12.2"
  }
 },
 "nbformat": 4,
 "nbformat_minor": 4
}
