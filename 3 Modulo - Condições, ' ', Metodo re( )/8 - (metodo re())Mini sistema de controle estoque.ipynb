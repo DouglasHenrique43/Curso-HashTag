{
 "cells": [
  {
   "cell_type": "markdown",
   "metadata": {},
   "source": [
    "# Exercícios"
   ]
  },
  {
   "cell_type": "markdown",
   "metadata": {},
   "source": [
    "## 1. Criando um mini sistema de controle de estoque\n",
    "\n",
    "- Crie um sistema para ser usado pelo time de controle de estoque de um centro de distribuição.\n",
    "- Imagine que ao fim de todo dia, o time conta quantas unidades de produto existem no estoque. Se tivermos um estoque abaixo do estoque permitido para aquela categoria do produto, o time deve ser avisado (print) para fazer um novo pedido daquele produto.\n",
    "- Cada categoria de produto tem um estoque mínimo diferente, segundo a regra abaixo:\n",
    "\n",
    "- alimentos -> Estoque mínimo: 50\n",
    "- bebidas -> Estoque mínimo: 75\n",
    "- limpeza -> Estoque mínimo: 30\n",
    "\n",
    "Para isso vamos criar um programa que pede 3 inputs do usuário: nome do produto, categoria e quantidade atual em estoque.\n",
    "\n",
    "Se o produto tiver abaixo do estoque mínimo da categoria dele, o programa deve printar a mensagem \"Solicitar {produto} à equipe de compras, temos apenas {unidades} em estoque\"\n",
    "\n",
    "Exemplo: Se o usuário preenche os inputs com: bebidas, dolly, 90, o programa não deve exibir nenhuma mensagem.<br>\n",
    "Agora, se o usuário preenche os inputs com: bebidas, guaraná, 60, o programa deve exibir a mensagem \"Solicitar guaraná à equipe de compras, temos apenas 60 unidades em estoque.\n",
    "\n",
    "Obs: lembre de usar o int() para transformar o número inserido pelo usuário no input de string para int.<br>\n",
    "Obs2: Caso o usuário não preencha alguma das 3 informações, o programa deve exibir uma mensagem para avisá-lo de preencher corretamente."
   ]
  },
  {
   "cell_type": "code",
   "execution_count": 1,
   "metadata": {},
   "outputs": [
    {
     "name": "stdout",
     "output_type": "stream",
     "text": [
      "O texto \"DAS123\" está no formato correto.\n",
      "Continuando com o restante do código...\n"
     ]
    }
   ],
   "source": [
    "import re   ### Biblioteca para colocar padrões nos textos.\n",
    "\n",
    "def verifica_formato(texto):\n",
    "    # Define o padrão: 3 letras maiúsculas seguidas de 3 números\n",
    "    padrao = re.compile(r'^[A-Z]{3}\\d{3}$')\n",
    "\n",
    "    while not padrao.match(texto):\n",
    "        print('Formato incorreto. Tente novamente.')\n",
    "        texto = input('Digite um texto no formato ASD123: ')\n",
    "\n",
    "    print(f'O texto \"{texto}\" está no formato correto.')\n",
    "\n",
    "# Solicita o input do usuário\n",
    "entrada = input('Digite um texto no formato ASD123: ')\n",
    "verifica_formato(entrada)\n",
    "\n",
    "# O código continua aqui\n",
    "print('Continuando com o restante do código...')\n"
   ]
  },
  {
   "cell_type": "code",
   "execution_count": 18,
   "metadata": {},
   "outputs": [
    {
     "ename": "SyntaxError",
     "evalue": "invalid syntax (4095959330.py, line 1)",
     "output_type": "error",
     "traceback": [
      "\u001b[1;36m  Cell \u001b[1;32mIn[18], line 1\u001b[1;36m\u001b[0m\n\u001b[1;33m    Sim, você pode usar um loop while para solicitar novamente a entrada do usuário até que as informações estejam corretas. Aqui está um exemplo:\u001b[0m\n\u001b[1;37m              ^\u001b[0m\n\u001b[1;31mSyntaxError\u001b[0m\u001b[1;31m:\u001b[0m invalid syntax\n"
     ]
    }
   ],
   "source": [
    "Sim, você pode usar um loop while para solicitar novamente a entrada do usuário até que as informações estejam corretas. Aqui está um exemplo:\n",
    "\n",
    "Python\n",
    "\n",
    "def obter_dados():\n",
    "    while True:\n",
    "        try:\n",
    "            alimento = int(input('Digite a quantidade de alimentos: '))\n",
    "            bebidas = int(input('Digite a quantidade de bebidas: '))\n",
    "            limpeza = int(input('Digite a quantidade de produtos de limpeza: '))\n",
    "\n",
    "            if alimento <= 2 or bebidas <= 5 or limpeza <= 6:\n",
    "                print('Pelo menos uma das condições é verdadeira.')\n",
    "                # Continue com o restante do código aqui\n",
    "                return alimento, bebidas, limpeza\n",
    "            else:\n",
    "                print('Todas as condições são falsas. Tente novamente.')\n",
    "\n",
    "        except ValueError:\n",
    "            print('Entrada inválida. Digite um número inteiro.')\n",
    "\n",
    "# Chama a função para obter os dados\n",
    "alimento, bebidas, limpeza = obter_dados()\n",
    "\n",
    "# Continua com o restante do código\n",
    "print('Continuando com o restante do código...')\n",
    "\n",
    "O loop while True continuará solicitando a entrada do usuário até que todas as condições sejam atendidas.\n",
    "Se o usuário inserir um valor inválido (não inteiro), ele receberá uma mensagem de erro.\n",
    "Se as condições forem atendidas, o código continuará com o restante do programa.\n",
    "Caso contrário, o usuário será solicitado a inserir os dados novamente."
   ]
  },
  {
   "cell_type": "code",
   "execution_count": 22,
   "metadata": {},
   "outputs": [
    {
     "name": "stdout",
     "output_type": "stream",
     "text": [
      "Você precisa Preencher todos os dados corretamente\n"
     ]
    }
   ],
   "source": [
    "nome = input('Insira o nome do produto: ')\n",
    "categoria = input('Insira a categoria do produto: ')\n",
    "quantidade = input('Insira a quantidade atual em estoque: ')\n",
    "\n",
    "if nome == '' or categoria == '' or quantidade == '': # Caso tenha dados não preenchido\n",
    "    print('Você precisa Preencher todos os dados corretamente')\n",
    "\n",
    "else:\n",
    "    quantidade = int(quantidade) # coloquei aqui em vez de ser no input, por que não da para colocar um dado vazio como int.\n",
    "    if categoria == 'alimentos':\n",
    "        if quantidade <= alimentos_min:\n",
    "            print(f'Solicitar {nome} à equipe de compras, temos apenas {quantidade} em estoque.')\n",
    "        if quantidade >= alimentos_min:\n",
    "            print(f'A categoria {nome} ainda possui {quantidade} estoque.')\n",
    "    elif categoria == 'bebidas':\n",
    "        if quantidade <= bebidas_min:\n",
    "            print(f'Solicitar {nome} à equipe de compras, temos apenas {quantidade} em estoque.')\n",
    "        if quantidade >= bebidas_min:\n",
    "            print(f'A categoria {nome} ainda possui {quantidade} estoque.')\n",
    "    elif categoria == 'limpeza':\n",
    "        if quantidade <= limpeza_min:\n",
    "            print(f'Solicitar {nome} à equipe de compras, temos apenas {quantidade} em estoque.')\n",
    "        if quantidade >= limpeza_min:\n",
    "            print(f'A categoria {nome} ainda possui {quantidade} estoque.')\n"
   ]
  }
 ],
 "metadata": {
  "kernelspec": {
   "display_name": "Python 3",
   "language": "python",
   "name": "python3"
  },
  "language_info": {
   "codemirror_mode": {
    "name": "ipython",
    "version": 3
   },
   "file_extension": ".py",
   "mimetype": "text/x-python",
   "name": "python",
   "nbconvert_exporter": "python",
   "pygments_lexer": "ipython3",
   "version": "3.12.2"
  }
 },
 "nbformat": 4,
 "nbformat_minor": 4
}
