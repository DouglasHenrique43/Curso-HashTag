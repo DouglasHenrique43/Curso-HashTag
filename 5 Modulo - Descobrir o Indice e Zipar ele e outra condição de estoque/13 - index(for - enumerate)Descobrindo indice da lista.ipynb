{
 "cells": [
  {
   "cell_type": "markdown",
   "metadata": {},
   "source": [
    "# Como descobrir o índice de um item de uma lista?\n",
    "\n",
    "i = lista.index('item')"
   ]
  },
  {
   "cell_type": "markdown",
   "metadata": {},
   "source": [
    "Exemplo:\n",
    "\n",
    "Digamos que você puxou do Banco de Dados da sua empresa uma lista com todos os produtos que a empresa vende e a quantidade em estoque de todos eles."
   ]
  },
  {
   "cell_type": "code",
   "execution_count": 2,
   "metadata": {},
   "outputs": [],
   "source": [
    "produtos = ['tv', 'celular', 'tablet', 'mouse', 'teclado', 'geladeira', 'forno']\n",
    "estoque = [100, 150, 100, 120, 70, 180, 80]"
   ]
  },
  {
   "cell_type": "markdown",
   "metadata": {},
   "source": [
    "Nesse caso a lista é \"pequena\" para fins didáticos, mas essa lista poderia ter dezenas de milhares de produtos diferentes.\n",
    "\n",
    "E agora, como eu faço para descobrir a quantidade em estoque do produto geladeira?"
   ]
  },
  {
   "cell_type": "code",
   "execution_count": 25,
   "metadata": {},
   "outputs": [
    {
     "name": "stdout",
     "output_type": "stream",
     "text": [
      "tv - 100\n",
      "celular - 150\n",
      "tablet - 100\n",
      "mouse - 120\n",
      "teclado - 70\n",
      "geladeira - 180\n",
      "forno - 80\n"
     ]
    }
   ],
   "source": [
    "produtos = ['tv', 'celular', 'tablet', 'mouse', 'teclado', 'geladeira', 'forno']\n",
    "estoque = [100, 150, 100, 120, 70, 180, 80]\n",
    "\n",
    "for i, produto in enumerate(produtos):\n",
    "    print(f'{produto} - {estoque[i]}')\n"
   ]
  },
  {
   "cell_type": "markdown",
   "metadata": {},
   "source": [
    "Crie um programa para fazer uma consulta de estoque. O usuário do programa deve inserir o nome do produto e, caso ele não exista na lista, ele deve ser avisado. Caso exista, o programa deve dizer a quantidade de unidades em estoque do produto"
   ]
  },
  {
   "cell_type": "code",
   "execution_count": 3,
   "metadata": {},
   "outputs": [
    {
     "name": "stdout",
     "output_type": "stream",
     "text": [
      "Produto não existe na lista.\n"
     ]
    }
   ],
   "source": [
    "produto_dig = input(\"Digite o nome do produto: \")\n",
    "\n",
    "if produto_dig in produtos:\n",
    "    indice = produtos.index(produto_dig)\n",
    "    print(f\"Produto {produto_dig} encontrado! Estoque: {estoque[indice]} unidades.\")\n",
    "elif produto_dig == '':\n",
    "    print('Digite os dados corretamente')\n",
    "else:\n",
    "    print(\"Produto não existe na lista.\")\n",
    "\n",
    "# Dados de exemplo\n",
    "produtos = ['tv', 'celular', 'tablet', 'mouse', 'teclado', 'geladeira', 'forno']\n",
    "estoque = [100, 150, 100, 120, 70, 180, 80]\n",
    "\n"
   ]
  }
 ],
 "metadata": {
  "kernelspec": {
   "display_name": "Python 3",
   "language": "python",
   "name": "python3"
  },
  "language_info": {
   "codemirror_mode": {
    "name": "ipython",
    "version": 3
   },
   "file_extension": ".py",
   "mimetype": "text/x-python",
   "name": "python",
   "nbconvert_exporter": "python",
   "pygments_lexer": "ipython3",
   "version": "3.12.2"
  }
 },
 "nbformat": 4,
 "nbformat_minor": 4
}
